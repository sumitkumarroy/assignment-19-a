{
 "cells": [
  {
   "cell_type": "code",
   "execution_count": 2,
   "id": "65a84cbc",
   "metadata": {},
   "outputs": [
    {
     "data": {
      "text/plain": [
       "'Artificial intelligence is a branch of computer science that deals with the development of algorithm and machines that requir human intervension.\\nFor eg., automatic cars machine learning is the branch of artificial intelligence the enable machine to learn from data and predict the future outcome \\nbased on the history. through many algorithms machine caan improve their accuracy and gain various insights from data. for eg., recommendation system\\ndeep learning is a branch of machine learning that try to mimic human behaviour based on the very detailed data and using sophisticated neural network \\nmodels. the genral model is made up of various hidden layer one input layer and 1 output layer. for eg., chatbox,etc. '"
      ]
     },
     "execution_count": 2,
     "metadata": {},
     "output_type": "execute_result"
    }
   ],
   "source": [
    "#Q1\n",
    "'''Artificial intelligence is a branch of computer science that deals with the development of algorithm and machines that requir human intervension.\n",
    "For eg., automatic cars machine learning is the branch of artificial intelligence the enable machine to learn from data and predict the future outcome \n",
    "based on the history. through many algorithms machine caan improve their accuracy and gain various insights from data. for eg., recommendation system\n",
    "deep learning is a branch of machine learning that try to mimic human behaviour based on the very detailed data and using sophisticated neural network \n",
    "models. the genral model is made up of various hidden layer one input layer and 1 output layer. for eg., chatbox,etc. '''"
   ]
  },
  {
   "cell_type": "code",
   "execution_count": 3,
   "id": "001141dc",
   "metadata": {},
   "outputs": [
    {
     "data": {
      "text/plain": [
       "'Supervised Learning is a type of machine learning where the model is trained on a labeled dataset. This means that each training example is paired \\nwith an output label. The model learns to map inputs to outputs based on these examples.\\nExamples of Supervised Learning:\\nRegression: Predicting house prices based on features like size, location, etc.\\nClassification: Email spam detection, where emails are labeled as \"spam\" or \"not spam\".\\nObject Detection: Identifying and classifying objects within an image, such as detecting pedestrians in self-driving car technology.'"
      ]
     },
     "execution_count": 3,
     "metadata": {},
     "output_type": "execute_result"
    }
   ],
   "source": [
    "#Q2\n",
    "'''Supervised Learning is a type of machine learning where the model is trained on a labeled dataset. This means that each training example is paired \n",
    "with an output label. The model learns to map inputs to outputs based on these examples.\n",
    "Examples of Supervised Learning:\n",
    "Regression: Predicting house prices based on features like size, location, etc.\n",
    "Classification: Email spam detection, where emails are labeled as \"spam\" or \"not spam\".\n",
    "Object Detection: Identifying and classifying objects within an image, such as detecting pedestrians in self-driving car technology.'''"
   ]
  },
  {
   "cell_type": "code",
   "execution_count": 4,
   "id": "576c754d",
   "metadata": {},
   "outputs": [
    {
     "data": {
      "text/plain": [
       "'Unsupervised Learning is a type of machine learning where the model is trained on data without labels. The system tries to learn the underlying \\nstructure of the data to make sense of it.\\nExamples of Unsupervised Learning:\\nClustering: Grouping customers into segments based on purchasing behavior.\\nAssociation: Market basket analysis, identifying products frequently bought together.\\nAnomaly Detection: Detecting unusual patterns that do not conform to expected behavior'"
      ]
     },
     "execution_count": 4,
     "metadata": {},
     "output_type": "execute_result"
    }
   ],
   "source": [
    "#Q3\n",
    "'''Unsupervised Learning is a type of machine learning where the model is trained on data without labels. The system tries to learn the underlying \n",
    "structure of the data to make sense of it.\n",
    "Examples of Unsupervised Learning:\n",
    "Clustering: Grouping customers into segments based on purchasing behavior.\n",
    "Association: Market basket analysis, identifying products frequently bought together.\n",
    "Anomaly Detection: Detecting unusual patterns that do not conform to expected behavior'''"
   ]
  },
  {
   "cell_type": "code",
   "execution_count": 5,
   "id": "0a4ad4ba",
   "metadata": {},
   "outputs": [
    {
     "data": {
      "text/plain": [
       "'Artificial Intelligence (AI): The broad field of creating systems capable of performing tasks that normally require human intelligence, such as \\nreasoning, learning, and problem-solving.\\nMachine Learning (ML): A subset of AI that involves training algorithms on data to enable them to make predictions or decisions without being explicitly\\nprogrammed for each task.\\nDeep Learning (DL): A subset of ML that uses neural networks with many layers (deep neural networks) to analyze complex data and patterns. It is \\nparticularly effective for tasks like image and speech recognition.\\nData Science (DS): An interdisciplinary field that uses scientific methods, processes, algorithms, and systems to extract knowledge and insights from \\nstructured and unstructured data.'"
      ]
     },
     "execution_count": 5,
     "metadata": {},
     "output_type": "execute_result"
    }
   ],
   "source": [
    "#Q3\n",
    "'''Artificial Intelligence (AI): The broad field of creating systems capable of performing tasks that normally require human intelligence, such as \n",
    "reasoning, learning, and problem-solving.\n",
    "Machine Learning (ML): A subset of AI that involves training algorithms on data to enable them to make predictions or decisions without being explicitly\n",
    "programmed for each task.\n",
    "Deep Learning (DL): A subset of ML that uses neural networks with many layers (deep neural networks) to analyze complex data and patterns. It is \n",
    "particularly effective for tasks like image and speech recognition.\n",
    "Data Science (DS): An interdisciplinary field that uses scientific methods, processes, algorithms, and systems to extract knowledge and insights from \n",
    "structured and unstructured data.'''"
   ]
  },
  {
   "cell_type": "code",
   "execution_count": 6,
   "id": "614b6bba",
   "metadata": {},
   "outputs": [
    {
     "data": {
      "text/plain": [
       "\"Supervised Learning: Involves training on a labeled dataset, meaning the model learns from input-output pairs. It's used for tasks like \\nclassification and regression.\\nUnsupervised Learning: Involves training on an unlabeled dataset, meaning the model tries to learn the structure of the data without explicit labels. \\nIt's used for clustering, association, and anomaly detection.\\nSemi-Supervised Learning: Combines both labeled and unlabeled data during training. This approach can improve learning accuracy when labeled data is \\nscarce and expensive to obtain.\""
      ]
     },
     "execution_count": 6,
     "metadata": {},
     "output_type": "execute_result"
    }
   ],
   "source": [
    "#Q4\n",
    "'''Supervised Learning: Involves training on a labeled dataset, meaning the model learns from input-output pairs. It's used for tasks like \n",
    "classification and regression.\n",
    "Unsupervised Learning: Involves training on an unlabeled dataset, meaning the model tries to learn the structure of the data without explicit labels. \n",
    "It's used for clustering, association, and anomaly detection.\n",
    "Semi-Supervised Learning: Combines both labeled and unlabeled data during training. This approach can improve learning accuracy when labeled data is \n",
    "scarce and expensive to obtain.'''"
   ]
  },
  {
   "cell_type": "code",
   "execution_count": 7,
   "id": "974c33fa",
   "metadata": {},
   "outputs": [
    {
     "data": {
      "text/plain": [
       "\"\\nTraining Set: The subset of data used to train the model. The model learns from this data.\\n\\nValidation Set: The subset of data used to provide an unbiased evaluation of the model fit on the training dataset while tuning model hyperparameters. \\nIt helps in preventing overfitting.\\nTest Set: The subset of data used to assess the final performance of the model. It provides an unbiased evaluation of the model's generalization to new\\ndata.\\n\""
      ]
     },
     "execution_count": 7,
     "metadata": {},
     "output_type": "execute_result"
    }
   ],
   "source": [
    "#Q5\n",
    "'''\n",
    "Training Set: The subset of data used to train the model. The model learns from this data.\n",
    "\n",
    "Validation Set: The subset of data used to provide an unbiased evaluation of the model fit on the training dataset while tuning model hyperparameters. \n",
    "It helps in preventing overfitting.\n",
    "Test Set: The subset of data used to assess the final performance of the model. It provides an unbiased evaluation of the model's generalization to new\n",
    "data.\n",
    "'''"
   ]
  },
  {
   "cell_type": "code",
   "execution_count": 8,
   "id": "6ddb20e0",
   "metadata": {},
   "outputs": [
    {
     "data": {
      "text/plain": [
       "'Unsupervised Learning can be used in anomaly detection by identifying patterns or clusters within the data and then detecting outliers that do not \\nfit these patterns. Algorithms like clustering (e.g., K-means, DBSCAN) and dimensionality reduction (e.g., PCA) can help identify anomalies in various\\ntypes of data, such as network traffic, financial transactions, or sensor data.'"
      ]
     },
     "execution_count": 8,
     "metadata": {},
     "output_type": "execute_result"
    }
   ],
   "source": [
    "#Q6\n",
    "'''Unsupervised Learning can be used in anomaly detection by identifying patterns or clusters within the data and then detecting outliers that do not \n",
    "fit these patterns. Algorithms like clustering (e.g., K-means, DBSCAN) and dimensionality reduction (e.g., PCA) can help identify anomalies in various\n",
    "types of data, such as network traffic, financial transactions, or sensor data.'''"
   ]
  },
  {
   "cell_type": "code",
   "execution_count": 9,
   "id": "015bebe8",
   "metadata": {},
   "outputs": [
    {
     "data": {
      "text/plain": [
       "'\\nLinear Regression\\nLogistic Regression\\nDecision Trees\\nSupport Vector Machines (SVM)\\nRandom Forests\\nGradient Boosting Machines (GBM)\\nNeural Networks\\nUnsupervised Learning Algorithms:\\n\\nK-means Clustering\\nHierarchical Clustering\\nDBSCAN (Density-Based Spatial Clustering of Applications with Noise)\\nPrincipal Component Analysis (PCA)\\nIndependent Component Analysis (ICA)\\nAutoencoders (for dimensionality reduction)\\nGaussian Mixture Models (GMM)\\n'"
      ]
     },
     "execution_count": 9,
     "metadata": {},
     "output_type": "execute_result"
    }
   ],
   "source": [
    "#Q7\n",
    "'''\n",
    "Linear Regression\n",
    "Logistic Regression\n",
    "Decision Trees\n",
    "Support Vector Machines (SVM)\n",
    "Random Forests\n",
    "Gradient Boosting Machines (GBM)\n",
    "Neural Networks\n",
    "Unsupervised Learning Algorithms:\n",
    "\n",
    "K-means Clustering\n",
    "Hierarchical Clustering\n",
    "DBSCAN (Density-Based Spatial Clustering of Applications with Noise)\n",
    "Principal Component Analysis (PCA)\n",
    "Independent Component Analysis (ICA)\n",
    "Autoencoders (for dimensionality reduction)\n",
    "Gaussian Mixture Models (GMM)\n",
    "'''"
   ]
  },
  {
   "cell_type": "code",
   "execution_count": null,
   "id": "726837b4",
   "metadata": {},
   "outputs": [],
   "source": []
  }
 ],
 "metadata": {
  "kernelspec": {
   "display_name": "Python 3 (ipykernel)",
   "language": "python",
   "name": "python3"
  },
  "language_info": {
   "codemirror_mode": {
    "name": "ipython",
    "version": 3
   },
   "file_extension": ".py",
   "mimetype": "text/x-python",
   "name": "python",
   "nbconvert_exporter": "python",
   "pygments_lexer": "ipython3",
   "version": "3.12.4"
  }
 },
 "nbformat": 4,
 "nbformat_minor": 5
}
