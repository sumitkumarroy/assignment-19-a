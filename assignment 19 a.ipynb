{
 "cells": [
  {
   "cell_type": "code",
   "execution_count": 6,
   "id": "65a84cbc",
   "metadata": {},
   "outputs": [
    {
     "data": {
      "text/plain": [
       "'Artificial intelligence is a branch of computer science that deals with the development of algorithm and machines that requir human intervension. For eg., automatic cars\\nmachine learning is the branch of artificial intelligence the enable machine to learn from data and predict the future outcome based on the history. through many algorithms machine caan improve their accuracy and gain various insights from data. for eg., recommendation system\\ndeep learning is a branch of machine learning that try to mimic human behaviour based on the very detailed data and using sophisticated neural network models. the genral model is made up of various hidden layer one input layer and 1 output layer. for eg., chatbox,etc. '"
      ]
     },
     "execution_count": 6,
     "metadata": {},
     "output_type": "execute_result"
    }
   ],
   "source": [
    "'''Artificial intelligence is a branch of computer science that deals with the development of algorithm and machines that requir human intervension. For eg., automatic cars\n",
    "machine learning is the branch of artificial intelligence the enable machine to learn from data and predict the future outcome based on the history. through many algorithms machine caan improve their accuracy and gain various insights from data. for eg., recommendation system\n",
    "deep learning is a branch of machine learning that try to mimic human behaviour based on the very detailed data and using sophisticated neural network models. the genral model is made up of various hidden layer one input layer and 1 output layer. for eg., chatbox,etc. '''"
   ]
  },
  {
   "cell_type": "code",
   "execution_count": 2,
   "id": "001141dc",
   "metadata": {},
   "outputs": [
    {
     "data": {
      "text/plain": [
       "'Supervised Learning is a type of machine learning where the model is trained on a labeled dataset. This means that each training example is paired with an output label. The model learns to map inputs to outputs based on these examples.\\n\\nExamples of Supervised Learning:\\n\\nRegression: Predicting house prices based on features like size, location, etc.\\nClassification: Email spam detection, where emails are labeled as \"spam\" or \"not spam\".\\nObject Detection: Identifying and classifying objects within an image, such as detecting pedestrians in self-driving car technology.'"
      ]
     },
     "execution_count": 2,
     "metadata": {},
     "output_type": "execute_result"
    }
   ],
   "source": [
    "'''Supervised Learning is a type of machine learning where the model is trained on a labeled dataset. This means that each training example is paired with an output label. The model learns to map inputs to outputs based on these examples.\n",
    "\n",
    "Examples of Supervised Learning:\n",
    "\n",
    "Regression: Predicting house prices based on features like size, location, etc.\n",
    "Classification: Email spam detection, where emails are labeled as \"spam\" or \"not spam\".\n",
    "Object Detection: Identifying and classifying objects within an image, such as detecting pedestrians in self-driving car technology.'''"
   ]
  },
  {
   "cell_type": "code",
   "execution_count": 3,
   "id": "576c754d",
   "metadata": {},
   "outputs": [
    {
     "data": {
      "text/plain": [
       "'Unsupervised Learning is a type of machine learning where the model is trained on data without labels. The system tries to learn the underlying structure of the data to make sense of it.\\n\\nExamples of Unsupervised Learning:\\n\\nClustering: Grouping customers into segments based on purchasing behavior.\\nAssociation: Market basket analysis, identifying products frequently bought together.\\nAnomaly Detection: Detecting unusual patterns that do not conform to expected behavior'"
      ]
     },
     "execution_count": 3,
     "metadata": {},
     "output_type": "execute_result"
    }
   ],
   "source": [
    "'''Unsupervised Learning is a type of machine learning where the model is trained on data without labels. The system tries to learn the underlying structure of the data to make sense of it.\n",
    "\n",
    "Examples of Unsupervised Learning:\n",
    "\n",
    "Clustering: Grouping customers into segments based on purchasing behavior.\n",
    "Association: Market basket analysis, identifying products frequently bought together.\n",
    "Anomaly Detection: Detecting unusual patterns that do not conform to expected behavior'''"
   ]
  },
  {
   "cell_type": "code",
   "execution_count": 4,
   "id": "0a4ad4ba",
   "metadata": {},
   "outputs": [
    {
     "data": {
      "text/plain": [
       "'Artificial Intelligence (AI): The broad field of creating systems capable of performing tasks that normally require human intelligence, such as reasoning, learning, and problem-solving.\\n\\nMachine Learning (ML): A subset of AI that involves training algorithms on data to enable them to make predictions or decisions without being explicitly programmed for each task.\\n\\nDeep Learning (DL): A subset of ML that uses neural networks with many layers (deep neural networks) to analyze complex data and patterns. It is particularly effective for tasks like image and speech recognition.\\n\\nData Science (DS): An interdisciplinary field that uses scientific methods, processes, algorithms, and systems to extract knowledge and insights from structured and unstructured data.'"
      ]
     },
     "execution_count": 4,
     "metadata": {},
     "output_type": "execute_result"
    }
   ],
   "source": [
    "'''Artificial Intelligence (AI): The broad field of creating systems capable of performing tasks that normally require human intelligence, such as reasoning, learning, and problem-solving.\n",
    "\n",
    "Machine Learning (ML): A subset of AI that involves training algorithms on data to enable them to make predictions or decisions without being explicitly programmed for each task.\n",
    "\n",
    "Deep Learning (DL): A subset of ML that uses neural networks with many layers (deep neural networks) to analyze complex data and patterns. It is particularly effective for tasks like image and speech recognition.\n",
    "\n",
    "Data Science (DS): An interdisciplinary field that uses scientific methods, processes, algorithms, and systems to extract knowledge and insights from structured and unstructured data.'''"
   ]
  },
  {
   "cell_type": "code",
   "execution_count": 5,
   "id": "614b6bba",
   "metadata": {},
   "outputs": [
    {
     "data": {
      "text/plain": [
       "\"Supervised Learning: Involves training on a labeled dataset, meaning the model learns from input-output pairs. It's used for tasks like classification and regression.\\n\\nUnsupervised Learning: Involves training on an unlabeled dataset, meaning the model tries to learn the structure of the data without explicit labels. It's used for clustering, association, and anomaly detection.\\n\\nSemi-Supervised Learning: Combines both labeled and unlabeled data during training. This approach can improve learning accuracy when labeled data is scarce and expensive to obtain.\""
      ]
     },
     "execution_count": 5,
     "metadata": {},
     "output_type": "execute_result"
    }
   ],
   "source": [
    "'''Supervised Learning: Involves training on a labeled dataset, meaning the model learns from input-output pairs. It's used for tasks like classification and regression.\n",
    "\n",
    "Unsupervised Learning: Involves training on an unlabeled dataset, meaning the model tries to learn the structure of the data without explicit labels. It's used for clustering, association, and anomaly detection.\n",
    "\n",
    "Semi-Supervised Learning: Combines both labeled and unlabeled data during training. This approach can improve learning accuracy when labeled data is scarce and expensive to obtain.'''"
   ]
  },
  {
   "cell_type": "code",
   "execution_count": 7,
   "id": "974c33fa",
   "metadata": {},
   "outputs": [
    {
     "data": {
      "text/plain": [
       "\"\\nTraining Set: The subset of data used to train the model. The model learns from this data.\\n\\nValidation Set: The subset of data used to provide an unbiased evaluation of the model fit on the training dataset while tuning model hyperparameters. It helps in preventing overfitting.\\n\\nTest Set: The subset of data used to assess the final performance of the model. It provides an unbiased evaluation of the model's generalization to new data.\\n\""
      ]
     },
     "execution_count": 7,
     "metadata": {},
     "output_type": "execute_result"
    }
   ],
   "source": [
    "'''\n",
    "Training Set: The subset of data used to train the model. The model learns from this data.\n",
    "\n",
    "Validation Set: The subset of data used to provide an unbiased evaluation of the model fit on the training dataset while tuning model hyperparameters. It helps in preventing overfitting.\n",
    "\n",
    "Test Set: The subset of data used to assess the final performance of the model. It provides an unbiased evaluation of the model's generalization to new data.\n",
    "'''"
   ]
  },
  {
   "cell_type": "code",
   "execution_count": 8,
   "id": "6ddb20e0",
   "metadata": {},
   "outputs": [
    {
     "data": {
      "text/plain": [
       "'Unsupervised Learning can be used in anomaly detection by identifying patterns or clusters within the data and then detecting outliers that do not fit these patterns. Algorithms like clustering (e.g., K-means, DBSCAN) and dimensionality reduction (e.g., PCA) can help identify anomalies in various types of data, such as network traffic, financial transactions, or sensor data.'"
      ]
     },
     "execution_count": 8,
     "metadata": {},
     "output_type": "execute_result"
    }
   ],
   "source": [
    "'''Unsupervised Learning can be used in anomaly detection by identifying patterns or clusters within the data and then detecting outliers that do not fit these patterns. Algorithms like clustering (e.g., K-means, DBSCAN) and dimensionality reduction (e.g., PCA) can help identify anomalies in various types of data, such as network traffic, financial transactions, or sensor data.'''"
   ]
  },
  {
   "cell_type": "code",
   "execution_count": 9,
   "id": "015bebe8",
   "metadata": {},
   "outputs": [
    {
     "data": {
      "text/plain": [
       "'\\nLinear Regression\\nLogistic Regression\\nDecision Trees\\nSupport Vector Machines (SVM)\\nRandom Forests\\nGradient Boosting Machines (GBM)\\nNeural Networks\\nUnsupervised Learning Algorithms:\\n\\nK-means Clustering\\nHierarchical Clustering\\nDBSCAN (Density-Based Spatial Clustering of Applications with Noise)\\nPrincipal Component Analysis (PCA)\\nIndependent Component Analysis (ICA)\\nAutoencoders (for dimensionality reduction)\\nGaussian Mixture Models (GMM)\\n'"
      ]
     },
     "execution_count": 9,
     "metadata": {},
     "output_type": "execute_result"
    }
   ],
   "source": [
    "'''\n",
    "Linear Regression\n",
    "Logistic Regression\n",
    "Decision Trees\n",
    "Support Vector Machines (SVM)\n",
    "Random Forests\n",
    "Gradient Boosting Machines (GBM)\n",
    "Neural Networks\n",
    "Unsupervised Learning Algorithms:\n",
    "\n",
    "K-means Clustering\n",
    "Hierarchical Clustering\n",
    "DBSCAN (Density-Based Spatial Clustering of Applications with Noise)\n",
    "Principal Component Analysis (PCA)\n",
    "Independent Component Analysis (ICA)\n",
    "Autoencoders (for dimensionality reduction)\n",
    "Gaussian Mixture Models (GMM)\n",
    "'''"
   ]
  },
  {
   "cell_type": "code",
   "execution_count": null,
   "id": "726837b4",
   "metadata": {},
   "outputs": [],
   "source": []
  }
 ],
 "metadata": {
  "kernelspec": {
   "display_name": "Python 3 (ipykernel)",
   "language": "python",
   "name": "python3"
  },
  "language_info": {
   "codemirror_mode": {
    "name": "ipython",
    "version": 3
   },
   "file_extension": ".py",
   "mimetype": "text/x-python",
   "name": "python",
   "nbconvert_exporter": "python",
   "pygments_lexer": "ipython3",
   "version": "3.11.4"
  }
 },
 "nbformat": 4,
 "nbformat_minor": 5
}
